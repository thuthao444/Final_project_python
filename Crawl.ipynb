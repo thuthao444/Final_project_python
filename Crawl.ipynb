post_list = []
for post in get_posts(FANPAGE_LINK,
                    options={"comments": True, "reactions": True, "allow_extra_requests": True},
                    extra_info=True, pages=PAGES_NUMBER, cookies=COOKIES_PATH):
    print(post)
    post_list.append(post)ssf
